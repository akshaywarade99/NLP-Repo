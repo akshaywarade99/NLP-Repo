{
 "cells": [
  {
   "cell_type": "code",
   "execution_count": 39,
   "id": "0313bc62",
   "metadata": {},
   "outputs": [],
   "source": [
    "import pandas as pd\n",
    "import numpy as np\n",
    "import matplotlib.pyplot as plt\n",
    "import warnings\n",
    "warnings.filterwarnings('ignore')"
   ]
  },
  {
   "cell_type": "code",
   "execution_count": 40,
   "id": "cfa6ec00",
   "metadata": {},
   "outputs": [],
   "source": [
    "df= pd.read_csv('../../DataSets/Restaurant_Reviews.tsv', sep='\\t')"
   ]
  },
  {
   "cell_type": "code",
   "execution_count": 41,
   "id": "378e6aeb",
   "metadata": {},
   "outputs": [
    {
     "data": {
      "text/html": [
       "<div>\n",
       "<style scoped>\n",
       "    .dataframe tbody tr th:only-of-type {\n",
       "        vertical-align: middle;\n",
       "    }\n",
       "\n",
       "    .dataframe tbody tr th {\n",
       "        vertical-align: top;\n",
       "    }\n",
       "\n",
       "    .dataframe thead th {\n",
       "        text-align: right;\n",
       "    }\n",
       "</style>\n",
       "<table border=\"1\" class=\"dataframe\">\n",
       "  <thead>\n",
       "    <tr style=\"text-align: right;\">\n",
       "      <th></th>\n",
       "      <th>Review</th>\n",
       "      <th>Liked</th>\n",
       "    </tr>\n",
       "  </thead>\n",
       "  <tbody>\n",
       "    <tr>\n",
       "      <th>0</th>\n",
       "      <td>Wow... Loved this place.</td>\n",
       "      <td>1</td>\n",
       "    </tr>\n",
       "    <tr>\n",
       "      <th>1</th>\n",
       "      <td>Crust is not good.</td>\n",
       "      <td>0</td>\n",
       "    </tr>\n",
       "    <tr>\n",
       "      <th>2</th>\n",
       "      <td>Not tasty and the texture was just nasty.</td>\n",
       "      <td>0</td>\n",
       "    </tr>\n",
       "    <tr>\n",
       "      <th>3</th>\n",
       "      <td>Stopped by during the late May bank holiday of...</td>\n",
       "      <td>1</td>\n",
       "    </tr>\n",
       "    <tr>\n",
       "      <th>4</th>\n",
       "      <td>The selection on the menu was great and so wer...</td>\n",
       "      <td>1</td>\n",
       "    </tr>\n",
       "  </tbody>\n",
       "</table>\n",
       "</div>"
      ],
      "text/plain": [
       "                                              Review  Liked\n",
       "0                           Wow... Loved this place.      1\n",
       "1                                 Crust is not good.      0\n",
       "2          Not tasty and the texture was just nasty.      0\n",
       "3  Stopped by during the late May bank holiday of...      1\n",
       "4  The selection on the menu was great and so wer...      1"
      ]
     },
     "execution_count": 41,
     "metadata": {},
     "output_type": "execute_result"
    }
   ],
   "source": [
    "df.head()"
   ]
  },
  {
   "cell_type": "code",
   "execution_count": 42,
   "id": "6c3e910b",
   "metadata": {},
   "outputs": [],
   "source": [
    "X= df['Review']\n",
    "y= df['Liked']"
   ]
  },
  {
   "cell_type": "code",
   "execution_count": 43,
   "id": "12346563",
   "metadata": {},
   "outputs": [],
   "source": [
    "from sklearn.model_selection import train_test_split\n",
    "\n",
    "X_train, X_test, y_train, y_test = train_test_split(X,y,test_size=0.2,random_state=16)"
   ]
  },
  {
   "cell_type": "code",
   "execution_count": 45,
   "id": "75fc6616",
   "metadata": {},
   "outputs": [
    {
     "data": {
      "text/plain": [
       "((800,), (800,))"
      ]
     },
     "execution_count": 45,
     "metadata": {},
     "output_type": "execute_result"
    }
   ],
   "source": [
    "X_train.shape, y_train.shape"
   ]
  },
  {
   "cell_type": "markdown",
   "id": "9008bbfa",
   "metadata": {},
   "source": [
    "# Text preprocessing"
   ]
  },
  {
   "cell_type": "markdown",
   "id": "0e8ba5a4",
   "metadata": {},
   "source": [
    "# Same Case- i.e. convert whole text into lover case "
   ]
  },
  {
   "cell_type": "code",
   "execution_count": 7,
   "id": "b58e56b1",
   "metadata": {},
   "outputs": [
    {
     "data": {
      "text/plain": [
       "'wow... loved this place.'"
      ]
     },
     "execution_count": 7,
     "metadata": {},
     "output_type": "execute_result"
    }
   ],
   "source": [
    "review= 'Wow... Loved this place.'\n",
    "review.lower()\n"
   ]
  },
  {
   "cell_type": "markdown",
   "id": "5c4f5133",
   "metadata": {},
   "source": [
    "# Removing Unwanted Charecters from Text"
   ]
  },
  {
   "cell_type": "code",
   "execution_count": 46,
   "id": "1ce8eb8a",
   "metadata": {},
   "outputs": [],
   "source": [
    "import re"
   ]
  },
  {
   "cell_type": "code",
   "execution_count": 9,
   "id": "06fdf00f",
   "metadata": {},
   "outputs": [
    {
     "data": {
      "text/plain": [
       "'wow    loved this place '"
      ]
     },
     "execution_count": 9,
     "metadata": {},
     "output_type": "execute_result"
    }
   ],
   "source": [
    "review= 'Wow... Loved this place.'\n",
    "review= review.lower()\n",
    "re.sub('[^a-z]',' ',review)\n"
   ]
  },
  {
   "cell_type": "code",
   "execution_count": 10,
   "id": "8ef64b14",
   "metadata": {},
   "outputs": [
    {
     "data": {
      "text/plain": [
       "['wow', 'loved', 'this', 'place']"
      ]
     },
     "execution_count": 10,
     "metadata": {},
     "output_type": "execute_result"
    }
   ],
   "source": [
    "review= 'Wow... Loved this place.'\n",
    "review= review.lower()\n",
    "review= re.sub('[^a-z]',' ',review)\n",
    "review.split()\n"
   ]
  },
  {
   "cell_type": "code",
   "execution_count": 11,
   "id": "9972fa48",
   "metadata": {},
   "outputs": [],
   "source": [
    "review= 'Wow... Loved this place.'\n",
    "review= review.lower()\n",
    "review= re.sub('[^a-z]',' ',review)\n",
    "words= review.split()\n"
   ]
  },
  {
   "cell_type": "markdown",
   "id": "64ec6368",
   "metadata": {},
   "source": [
    "# Removing Stopwords"
   ]
  },
  {
   "cell_type": "code",
   "execution_count": 47,
   "id": "6e4c4a6b",
   "metadata": {},
   "outputs": [],
   "source": [
    "import nltk"
   ]
  },
  {
   "cell_type": "code",
   "execution_count": 48,
   "id": "c874d45a",
   "metadata": {},
   "outputs": [
    {
     "name": "stderr",
     "output_type": "stream",
     "text": [
      "[nltk_data] Downloading package stopwords to\n",
      "[nltk_data]     C:\\Users\\Pavilion\\AppData\\Roaming\\nltk_data...\n",
      "[nltk_data]   Package stopwords is already up-to-date!\n"
     ]
    },
    {
     "data": {
      "text/plain": [
       "True"
      ]
     },
     "execution_count": 48,
     "metadata": {},
     "output_type": "execute_result"
    }
   ],
   "source": [
    "nltk.download('stopwords')"
   ]
  },
  {
   "cell_type": "code",
   "execution_count": 49,
   "id": "1e8ca89f",
   "metadata": {},
   "outputs": [],
   "source": [
    "stopwords= nltk.corpus.stopwords.words('english')    # List of Stopwords"
   ]
  },
  {
   "cell_type": "code",
   "execution_count": 50,
   "id": "a5ca9d00",
   "metadata": {},
   "outputs": [],
   "source": [
    "stopwords.remove('not')\n"
   ]
  },
  {
   "cell_type": "code",
   "execution_count": 16,
   "id": "3d820abb",
   "metadata": {},
   "outputs": [
    {
     "data": {
      "text/plain": [
       "['wow', 'loved', 'place']"
      ]
     },
     "execution_count": 16,
     "metadata": {},
     "output_type": "execute_result"
    }
   ],
   "source": [
    "review= 'Wow... Loved this place.'\n",
    "review= review.lower()\n",
    "review= re.sub('[^a-z]',' ',review)\n",
    "words= review.split()\n",
    "final_words= [word for word in words if not word in stopwords]\n",
    "final_words"
   ]
  },
  {
   "cell_type": "markdown",
   "id": "57778807",
   "metadata": {},
   "source": [
    "# Stemming"
   ]
  },
  {
   "cell_type": "code",
   "execution_count": 12,
   "id": "39ec198b",
   "metadata": {},
   "outputs": [
    {
     "data": {
      "text/plain": [
       "'run'"
      ]
     },
     "execution_count": 12,
     "metadata": {},
     "output_type": "execute_result"
    }
   ],
   "source": [
    "stemmer = nltk.stem.PorterStemmer()     # Stemming\n",
    "stemmer.stem('running')"
   ]
  },
  {
   "cell_type": "code",
   "execution_count": 18,
   "id": "303468f5",
   "metadata": {},
   "outputs": [
    {
     "data": {
      "text/plain": [
       "'wow love place'"
      ]
     },
     "execution_count": 18,
     "metadata": {},
     "output_type": "execute_result"
    }
   ],
   "source": [
    "review= 'Wow... Loved this place.'\n",
    "review= review.lower()\n",
    "review= re.sub('[^a-z]',' ',review)\n",
    "words= review.split()\n",
    "final_words= [stemmer.stem(word) for word in words if not word in stopwords]\n",
    "' '.join(final_words)"
   ]
  },
  {
   "cell_type": "code",
   "execution_count": 19,
   "id": "14738be6",
   "metadata": {},
   "outputs": [],
   "source": [
    "# Defining User Define Func"
   ]
  },
  {
   "cell_type": "code",
   "execution_count": 51,
   "id": "94d81664",
   "metadata": {},
   "outputs": [],
   "source": [
    "def preprocess(review):\n",
    "    review= review.lower()\n",
    "    review= re.sub('[^a-z]',' ',review)\n",
    "    words= review.split()\n",
    "    final_words= [stemmer.stem(word) for word in words if not word in stopwords]\n",
    "    return ' '.join(final_words)"
   ]
  },
  {
   "cell_type": "code",
   "execution_count": 21,
   "id": "2b246fb6",
   "metadata": {},
   "outputs": [
    {
     "data": {
      "text/plain": [
       "'not tasti textur nasti'"
      ]
     },
     "execution_count": 21,
     "metadata": {},
     "output_type": "execute_result"
    }
   ],
   "source": [
    "preprocess('Not tasty and the texture was just nasty.')"
   ]
  },
  {
   "cell_type": "code",
   "execution_count": 22,
   "id": "76f32379",
   "metadata": {},
   "outputs": [
    {
     "data": {
      "text/plain": [
       "'crust not good'"
      ]
     },
     "execution_count": 22,
     "metadata": {},
     "output_type": "execute_result"
    }
   ],
   "source": [
    "preprocess('Crust is not good.')    # as not is in stopwords it is predicting wrong"
   ]
  },
  {
   "cell_type": "code",
   "execution_count": 23,
   "id": "ba0571af",
   "metadata": {},
   "outputs": [],
   "source": [
    "# Apply function to DF"
   ]
  },
  {
   "cell_type": "code",
   "execution_count": 30,
   "id": "cbdd885c",
   "metadata": {},
   "outputs": [
    {
     "data": {
      "text/plain": [
       "0                                         wow love place\n",
       "1                                         crust not good\n",
       "2                                 not tasti textur nasti\n",
       "3      stop late may bank holiday rick steve recommen...\n",
       "4                                select menu great price\n",
       "                             ...                        \n",
       "995                        think food flavor textur lack\n",
       "996                               appetit instantli gone\n",
       "997                 overal not impress would not go back\n",
       "998    whole experi underwhelm think go ninja sushi n...\n",
       "999    wast enough life pour salt wound draw time too...\n",
       "Name: Review, Length: 1000, dtype: object"
      ]
     },
     "execution_count": 30,
     "metadata": {},
     "output_type": "execute_result"
    }
   ],
   "source": [
    "df['Review'].apply(preprocess)    # Preprocessing Done"
   ]
  },
  {
   "cell_type": "code",
   "execution_count": 25,
   "id": "f065b91b",
   "metadata": {},
   "outputs": [],
   "source": [
    "df['processed_review']= df['Review'].apply(preprocess)"
   ]
  },
  {
   "cell_type": "code",
   "execution_count": 26,
   "id": "a74f9793",
   "metadata": {},
   "outputs": [],
   "source": [
    "from sklearn.feature_extraction.text import CountVectorizer"
   ]
  },
  {
   "cell_type": "code",
   "execution_count": 27,
   "id": "066c8b9c",
   "metadata": {},
   "outputs": [
    {
     "data": {
      "text/plain": [
       "CountVectorizer()"
      ]
     },
     "execution_count": 27,
     "metadata": {},
     "output_type": "execute_result"
    }
   ],
   "source": [
    "vectorizer = CountVectorizer()\n",
    "vectorizer.fit(df['processed_review'])"
   ]
  },
  {
   "cell_type": "code",
   "execution_count": 28,
   "id": "e1e57ab6",
   "metadata": {},
   "outputs": [
    {
     "data": {
      "text/plain": [
       "1566"
      ]
     },
     "execution_count": 28,
     "metadata": {},
     "output_type": "execute_result"
    }
   ],
   "source": [
    "len(vectorizer.get_feature_names())"
   ]
  },
  {
   "cell_type": "markdown",
   "id": "9c7d9d7b",
   "metadata": {},
   "source": [
    "# Bag OF Words Model"
   ]
  },
  {
   "cell_type": "code",
   "execution_count": 29,
   "id": "b821f1cb",
   "metadata": {},
   "outputs": [],
   "source": [
    "bow_table= vectorizer.transform(df['processed_review'])"
   ]
  },
  {
   "cell_type": "code",
   "execution_count": 30,
   "id": "593298af",
   "metadata": {},
   "outputs": [
    {
     "data": {
      "text/plain": [
       "<1000x1566 sparse matrix of type '<class 'numpy.int64'>'\n",
       "\twith 5484 stored elements in Compressed Sparse Row format>"
      ]
     },
     "execution_count": 30,
     "metadata": {},
     "output_type": "execute_result"
    }
   ],
   "source": [
    "bow_table   # In the form of sparse metrix ... so need to convert it into array"
   ]
  },
  {
   "cell_type": "code",
   "execution_count": 31,
   "id": "c97bb953",
   "metadata": {},
   "outputs": [
    {
     "data": {
      "text/plain": [
       "array([[0, 0, 0, ..., 0, 0, 0],\n",
       "       [0, 0, 0, ..., 0, 0, 0],\n",
       "       [0, 0, 0, ..., 0, 0, 0],\n",
       "       ...,\n",
       "       [0, 0, 0, ..., 0, 0, 0],\n",
       "       [0, 0, 0, ..., 0, 0, 0],\n",
       "       [0, 0, 0, ..., 0, 0, 0]], dtype=int64)"
      ]
     },
     "execution_count": 31,
     "metadata": {},
     "output_type": "execute_result"
    }
   ],
   "source": [
    "bow_table.toarray()"
   ]
  },
  {
   "cell_type": "code",
   "execution_count": 32,
   "id": "96b87ce6",
   "metadata": {},
   "outputs": [],
   "source": [
    "X_train= bow_table.toarray()\n",
    "y_yrain= df['Liked']"
   ]
  },
  {
   "cell_type": "code",
   "execution_count": 33,
   "id": "b550e278",
   "metadata": {},
   "outputs": [],
   "source": [
    "from sklearn.ensemble import RandomForestClassifier"
   ]
  },
  {
   "cell_type": "code",
   "execution_count": 34,
   "id": "7fed2c4f",
   "metadata": {},
   "outputs": [
    {
     "data": {
      "text/plain": [
       "RandomForestClassifier(max_depth=3, min_samples_leaf=2, n_estimators=90)"
      ]
     },
     "execution_count": 34,
     "metadata": {},
     "output_type": "execute_result"
    }
   ],
   "source": [
    "model= RandomForestClassifier(n_estimators=90,max_depth=3,min_samples_leaf=2)\n",
    "model.fit(X_train,y_yrain)"
   ]
  },
  {
   "cell_type": "code",
   "execution_count": 35,
   "id": "b73ea277",
   "metadata": {},
   "outputs": [],
   "source": [
    "def predict_review(review):\n",
    "    review=preprocess(review)\n",
    "    X_test=vectorizer.transform([review])\n",
    "    return model.predict(X_test)"
   ]
  },
  {
   "cell_type": "code",
   "execution_count": 36,
   "id": "61da0d2a",
   "metadata": {},
   "outputs": [
    {
     "data": {
      "text/plain": [
       "array([0], dtype=int64)"
      ]
     },
     "execution_count": 36,
     "metadata": {},
     "output_type": "execute_result"
    }
   ],
   "source": [
    "predict_review('Not tasty and the texture was just nasty.')"
   ]
  },
  {
   "cell_type": "code",
   "execution_count": 37,
   "id": "274a967e",
   "metadata": {},
   "outputs": [
    {
     "data": {
      "text/plain": [
       "array([1], dtype=int64)"
      ]
     },
     "execution_count": 37,
     "metadata": {},
     "output_type": "execute_result"
    }
   ],
   "source": [
    "predict_review('food was not good')"
   ]
  },
  {
   "cell_type": "markdown",
   "id": "9ddc77dc",
   "metadata": {},
   "source": [
    "# Using Bag Of Words i.e. BOW"
   ]
  },
  {
   "cell_type": "code",
   "execution_count": 52,
   "id": "8c7b8b78",
   "metadata": {},
   "outputs": [],
   "source": [
    "from sklearn.feature_extraction.text import CountVectorizer"
   ]
  },
  {
   "cell_type": "code",
   "execution_count": 53,
   "id": "7e861657",
   "metadata": {},
   "outputs": [],
   "source": [
    "X_train_processed= X_train.apply(preprocess)\n",
    "X_test_processed = X_test.apply(preprocess)"
   ]
  },
  {
   "cell_type": "code",
   "execution_count": 54,
   "id": "ef385f10",
   "metadata": {},
   "outputs": [
    {
     "data": {
      "text/plain": [
       "CountVectorizer(max_features=1000, ngram_range=(1, 2))"
      ]
     },
     "execution_count": 54,
     "metadata": {},
     "output_type": "execute_result"
    }
   ],
   "source": [
    "vectorizer_BOW = CountVectorizer(max_features=1000,ngram_range=(1,2))\n",
    "vectorizer_BOW.fit(X_train_processed)"
   ]
  },
  {
   "cell_type": "code",
   "execution_count": 55,
   "id": "55b485e5",
   "metadata": {},
   "outputs": [],
   "source": [
    "bow_table= vectorizer_BOW.transform(X_train_processed)"
   ]
  },
  {
   "cell_type": "code",
   "execution_count": 56,
   "id": "45d4af60",
   "metadata": {},
   "outputs": [],
   "source": [
    "X_train= bow_table.toarray()\n"
   ]
  },
  {
   "cell_type": "code",
   "execution_count": 57,
   "id": "0d7acf38",
   "metadata": {},
   "outputs": [],
   "source": [
    "from sklearn.ensemble import RandomForestClassifier"
   ]
  },
  {
   "cell_type": "code",
   "execution_count": 58,
   "id": "3b32c224",
   "metadata": {},
   "outputs": [
    {
     "data": {
      "text/plain": [
       "RandomForestClassifier(max_depth=4, n_estimators=90)"
      ]
     },
     "execution_count": 58,
     "metadata": {},
     "output_type": "execute_result"
    }
   ],
   "source": [
    "model_bow= RandomForestClassifier(n_estimators=90,max_depth=4)\n",
    "model_bow.fit(X_train,y_train)\n"
   ]
  },
  {
   "cell_type": "code",
   "execution_count": 63,
   "id": "b6ac48fe",
   "metadata": {},
   "outputs": [],
   "source": [
    "X_test_processed= X_test.apply(preprocess)\n",
    "X_test_processed=vectorizer_BOW.transform(X_test_processed)"
   ]
  },
  {
   "cell_type": "code",
   "execution_count": 64,
   "id": "cd0cab6d",
   "metadata": {},
   "outputs": [
    {
     "data": {
      "text/plain": [
       "0.74"
      ]
     },
     "execution_count": 64,
     "metadata": {},
     "output_type": "execute_result"
    }
   ],
   "source": [
    "model_bow.score(X_test_processed,y_test)"
   ]
  },
  {
   "cell_type": "markdown",
   "id": "2a62167f",
   "metadata": {},
   "source": [
    "# TF-IDF"
   ]
  },
  {
   "cell_type": "code",
   "execution_count": 65,
   "id": "3cc63747",
   "metadata": {},
   "outputs": [],
   "source": [
    "from sklearn.feature_extraction.text import TfidfVectorizer"
   ]
  },
  {
   "cell_type": "code",
   "execution_count": 66,
   "id": "f27b3d4f",
   "metadata": {},
   "outputs": [
    {
     "data": {
      "text/plain": [
       "RandomForestClassifier(max_depth=4, n_estimators=90)"
      ]
     },
     "execution_count": 66,
     "metadata": {},
     "output_type": "execute_result"
    }
   ],
   "source": [
    "vectorizer_tfidf = TfidfVectorizer(max_features=1000)\n",
    "vectorizer_tfidf.fit(X_train_processed)\n",
    "tfidf_table = vectorizer_tfidf.transform(X_train_processed)\n",
    "\n",
    "model_tfidf= RandomForestClassifier(n_estimators=90,max_depth=4)\n",
    "model_tfidf.fit(tfidf_table.toarray(),y_train)\n"
   ]
  },
  {
   "cell_type": "code",
   "execution_count": 67,
   "id": "981809fe",
   "metadata": {},
   "outputs": [
    {
     "data": {
      "text/plain": [
       "0.555"
      ]
     },
     "execution_count": 67,
     "metadata": {},
     "output_type": "execute_result"
    }
   ],
   "source": [
    "model_tfidf.score(X_test_processed,y_test)"
   ]
  },
  {
   "cell_type": "markdown",
   "id": "af3bc2f4",
   "metadata": {},
   "source": [
    "# N-grams"
   ]
  },
  {
   "cell_type": "code",
   "execution_count": 69,
   "id": "38e53e68",
   "metadata": {},
   "outputs": [
    {
     "data": {
      "text/plain": [
       "RandomForestClassifier(max_depth=4, n_estimators=90)"
      ]
     },
     "execution_count": 69,
     "metadata": {},
     "output_type": "execute_result"
    }
   ],
   "source": [
    "vectorizer_ngrams = CountVectorizer(max_features=1000, ngram_range=(1,2))\n",
    "vectorizer_ngrams.fit(X_train_processed)\n",
    "ngrams_table = vectorizer_ngrams.transform(X_train_processed)\n",
    "\n",
    "model_ngrams= RandomForestClassifier(n_estimators=90,max_depth=4)\n",
    "model_ngrams.fit(ngrams_table.toarray(),y_train)\n"
   ]
  },
  {
   "cell_type": "code",
   "execution_count": 70,
   "id": "3a5e0a8d",
   "metadata": {},
   "outputs": [
    {
     "data": {
      "text/plain": [
       "0.74"
      ]
     },
     "execution_count": 70,
     "metadata": {},
     "output_type": "execute_result"
    }
   ],
   "source": [
    "model_ngrams.score(X_test_processed,y_test)"
   ]
  },
  {
   "cell_type": "code",
   "execution_count": null,
   "id": "4fe31c4c",
   "metadata": {},
   "outputs": [],
   "source": []
  }
 ],
 "metadata": {
  "kernelspec": {
   "display_name": "Python 3 (ipykernel)",
   "language": "python",
   "name": "python3"
  },
  "language_info": {
   "codemirror_mode": {
    "name": "ipython",
    "version": 3
   },
   "file_extension": ".py",
   "mimetype": "text/x-python",
   "name": "python",
   "nbconvert_exporter": "python",
   "pygments_lexer": "ipython3",
   "version": "3.9.12"
  }
 },
 "nbformat": 4,
 "nbformat_minor": 5
}
