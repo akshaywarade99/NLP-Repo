{
 "cells": [
  {
   "cell_type": "code",
   "execution_count": 1,
   "id": "0313bc62",
   "metadata": {},
   "outputs": [],
   "source": [
    "import pandas as pd\n",
    "import numpy as np\n",
    "import matplotlib.pyplot as plt\n",
    "import warnings\n",
    "warnings.filterwarnings('ignore')"
   ]
  },
  {
   "cell_type": "code",
   "execution_count": 2,
   "id": "cfa6ec00",
   "metadata": {},
   "outputs": [],
   "source": [
    "df= pd.read_csv('../../DataSets/Restaurant_Reviews.tsv', sep='\\t')"
   ]
  },
  {
   "cell_type": "code",
   "execution_count": 3,
   "id": "378e6aeb",
   "metadata": {},
   "outputs": [
    {
     "data": {
      "text/html": [
       "<div>\n",
       "<style scoped>\n",
       "    .dataframe tbody tr th:only-of-type {\n",
       "        vertical-align: middle;\n",
       "    }\n",
       "\n",
       "    .dataframe tbody tr th {\n",
       "        vertical-align: top;\n",
       "    }\n",
       "\n",
       "    .dataframe thead th {\n",
       "        text-align: right;\n",
       "    }\n",
       "</style>\n",
       "<table border=\"1\" class=\"dataframe\">\n",
       "  <thead>\n",
       "    <tr style=\"text-align: right;\">\n",
       "      <th></th>\n",
       "      <th>Review</th>\n",
       "      <th>Liked</th>\n",
       "    </tr>\n",
       "  </thead>\n",
       "  <tbody>\n",
       "    <tr>\n",
       "      <th>0</th>\n",
       "      <td>Wow... Loved this place.</td>\n",
       "      <td>1</td>\n",
       "    </tr>\n",
       "    <tr>\n",
       "      <th>1</th>\n",
       "      <td>Crust is not good.</td>\n",
       "      <td>0</td>\n",
       "    </tr>\n",
       "    <tr>\n",
       "      <th>2</th>\n",
       "      <td>Not tasty and the texture was just nasty.</td>\n",
       "      <td>0</td>\n",
       "    </tr>\n",
       "    <tr>\n",
       "      <th>3</th>\n",
       "      <td>Stopped by during the late May bank holiday of...</td>\n",
       "      <td>1</td>\n",
       "    </tr>\n",
       "    <tr>\n",
       "      <th>4</th>\n",
       "      <td>The selection on the menu was great and so wer...</td>\n",
       "      <td>1</td>\n",
       "    </tr>\n",
       "    <tr>\n",
       "      <th>...</th>\n",
       "      <td>...</td>\n",
       "      <td>...</td>\n",
       "    </tr>\n",
       "    <tr>\n",
       "      <th>995</th>\n",
       "      <td>I think food should have flavor and texture an...</td>\n",
       "      <td>0</td>\n",
       "    </tr>\n",
       "    <tr>\n",
       "      <th>996</th>\n",
       "      <td>Appetite instantly gone.</td>\n",
       "      <td>0</td>\n",
       "    </tr>\n",
       "    <tr>\n",
       "      <th>997</th>\n",
       "      <td>Overall I was not impressed and would not go b...</td>\n",
       "      <td>0</td>\n",
       "    </tr>\n",
       "    <tr>\n",
       "      <th>998</th>\n",
       "      <td>The whole experience was underwhelming, and I ...</td>\n",
       "      <td>0</td>\n",
       "    </tr>\n",
       "    <tr>\n",
       "      <th>999</th>\n",
       "      <td>Then, as if I hadn't wasted enough of my life ...</td>\n",
       "      <td>0</td>\n",
       "    </tr>\n",
       "  </tbody>\n",
       "</table>\n",
       "<p>1000 rows × 2 columns</p>\n",
       "</div>"
      ],
      "text/plain": [
       "                                                Review  Liked\n",
       "0                             Wow... Loved this place.      1\n",
       "1                                   Crust is not good.      0\n",
       "2            Not tasty and the texture was just nasty.      0\n",
       "3    Stopped by during the late May bank holiday of...      1\n",
       "4    The selection on the menu was great and so wer...      1\n",
       "..                                                 ...    ...\n",
       "995  I think food should have flavor and texture an...      0\n",
       "996                           Appetite instantly gone.      0\n",
       "997  Overall I was not impressed and would not go b...      0\n",
       "998  The whole experience was underwhelming, and I ...      0\n",
       "999  Then, as if I hadn't wasted enough of my life ...      0\n",
       "\n",
       "[1000 rows x 2 columns]"
      ]
     },
     "execution_count": 3,
     "metadata": {},
     "output_type": "execute_result"
    }
   ],
   "source": [
    "df"
   ]
  },
  {
   "cell_type": "markdown",
   "id": "9008bbfa",
   "metadata": {},
   "source": [
    "# Text preprocessing"
   ]
  },
  {
   "cell_type": "markdown",
   "id": "0e8ba5a4",
   "metadata": {},
   "source": [
    "# Same Case- i.e. convert whole text into lover case "
   ]
  },
  {
   "cell_type": "code",
   "execution_count": 4,
   "id": "b58e56b1",
   "metadata": {},
   "outputs": [
    {
     "data": {
      "text/plain": [
       "'wow... loved this place.'"
      ]
     },
     "execution_count": 4,
     "metadata": {},
     "output_type": "execute_result"
    }
   ],
   "source": [
    "review= 'Wow... Loved this place.'\n",
    "review.lower()\n"
   ]
  },
  {
   "cell_type": "markdown",
   "id": "5c4f5133",
   "metadata": {},
   "source": [
    "# Removing Unwanted Charecters from Text"
   ]
  },
  {
   "cell_type": "code",
   "execution_count": 5,
   "id": "1ce8eb8a",
   "metadata": {},
   "outputs": [],
   "source": [
    "import re"
   ]
  },
  {
   "cell_type": "code",
   "execution_count": 6,
   "id": "06fdf00f",
   "metadata": {},
   "outputs": [
    {
     "data": {
      "text/plain": [
       "'wow    loved this place '"
      ]
     },
     "execution_count": 6,
     "metadata": {},
     "output_type": "execute_result"
    }
   ],
   "source": [
    "review= 'Wow... Loved this place.'\n",
    "review= review.lower()\n",
    "re.sub('[^a-z]',' ',review)\n"
   ]
  },
  {
   "cell_type": "code",
   "execution_count": 7,
   "id": "8ef64b14",
   "metadata": {},
   "outputs": [
    {
     "data": {
      "text/plain": [
       "['wow', 'loved', 'this', 'place']"
      ]
     },
     "execution_count": 7,
     "metadata": {},
     "output_type": "execute_result"
    }
   ],
   "source": [
    "review= 'Wow... Loved this place.'\n",
    "review= review.lower()\n",
    "review= re.sub('[^a-z]',' ',review)\n",
    "review.split()\n"
   ]
  },
  {
   "cell_type": "code",
   "execution_count": 8,
   "id": "9972fa48",
   "metadata": {},
   "outputs": [],
   "source": [
    "review= 'Wow... Loved this place.'\n",
    "review= review.lower()\n",
    "review= re.sub('[^a-z]',' ',review)\n",
    "words= review.split()\n"
   ]
  },
  {
   "cell_type": "markdown",
   "id": "64ec6368",
   "metadata": {},
   "source": [
    "# Removing Stopwords"
   ]
  },
  {
   "cell_type": "code",
   "execution_count": 9,
   "id": "6e4c4a6b",
   "metadata": {},
   "outputs": [],
   "source": [
    "import nltk"
   ]
  },
  {
   "cell_type": "code",
   "execution_count": 10,
   "id": "c874d45a",
   "metadata": {},
   "outputs": [
    {
     "name": "stderr",
     "output_type": "stream",
     "text": [
      "[nltk_data] Downloading package stopwords to\n",
      "[nltk_data]     C:\\Users\\Pavilion\\AppData\\Roaming\\nltk_data...\n",
      "[nltk_data]   Package stopwords is already up-to-date!\n"
     ]
    },
    {
     "data": {
      "text/plain": [
       "True"
      ]
     },
     "execution_count": 10,
     "metadata": {},
     "output_type": "execute_result"
    }
   ],
   "source": [
    "nltk.download('stopwords')"
   ]
  },
  {
   "cell_type": "code",
   "execution_count": 11,
   "id": "1e8ca89f",
   "metadata": {},
   "outputs": [],
   "source": [
    "stopwords= nltk.corpus.stopwords.words('english')    # List of Stopwords"
   ]
  },
  {
   "cell_type": "code",
   "execution_count": 12,
   "id": "a5ca9d00",
   "metadata": {},
   "outputs": [],
   "source": [
    "stopwords.remove('not')"
   ]
  },
  {
   "cell_type": "code",
   "execution_count": 13,
   "id": "3d820abb",
   "metadata": {},
   "outputs": [
    {
     "data": {
      "text/plain": [
       "['wow', 'loved', 'place']"
      ]
     },
     "execution_count": 13,
     "metadata": {},
     "output_type": "execute_result"
    }
   ],
   "source": [
    "review= 'Wow... Loved this place.'\n",
    "review= review.lower()\n",
    "review= re.sub('[^a-z]',' ',review)\n",
    "words= review.split()\n",
    "final_words= [word for word in words if not word in stopwords]\n",
    "final_words"
   ]
  },
  {
   "cell_type": "markdown",
   "id": "57778807",
   "metadata": {},
   "source": [
    "# Stemming"
   ]
  },
  {
   "cell_type": "code",
   "execution_count": 14,
   "id": "39ec198b",
   "metadata": {},
   "outputs": [
    {
     "data": {
      "text/plain": [
       "'run'"
      ]
     },
     "execution_count": 14,
     "metadata": {},
     "output_type": "execute_result"
    }
   ],
   "source": [
    "stemmer = nltk.stem.PorterStemmer()     # Stemming\n",
    "stemmer.stem('running')"
   ]
  },
  {
   "cell_type": "code",
   "execution_count": 15,
   "id": "303468f5",
   "metadata": {},
   "outputs": [
    {
     "data": {
      "text/plain": [
       "'wow love place'"
      ]
     },
     "execution_count": 15,
     "metadata": {},
     "output_type": "execute_result"
    }
   ],
   "source": [
    "review= 'Wow... Loved this place.'\n",
    "review= review.lower()\n",
    "review= re.sub('[^a-z]',' ',review)\n",
    "words= review.split()\n",
    "final_words= [stemmer.stem(word) for word in words if not word in stopwords]\n",
    "' '.join(final_words)"
   ]
  },
  {
   "cell_type": "code",
   "execution_count": 16,
   "id": "14738be6",
   "metadata": {},
   "outputs": [],
   "source": [
    "# Defining User Define Func"
   ]
  },
  {
   "cell_type": "code",
   "execution_count": 17,
   "id": "94d81664",
   "metadata": {},
   "outputs": [],
   "source": [
    "def preprocess(review):\n",
    "    review= review.lower()\n",
    "    review= re.sub('[^a-z]',' ',review)\n",
    "    words= review.split()\n",
    "    final_words= [stemmer.stem(word) for word in words if not word in stopwords]\n",
    "    return ' '.join(final_words)"
   ]
  },
  {
   "cell_type": "code",
   "execution_count": 18,
   "id": "2b246fb6",
   "metadata": {},
   "outputs": [
    {
     "data": {
      "text/plain": [
       "'not tasti textur nasti'"
      ]
     },
     "execution_count": 18,
     "metadata": {},
     "output_type": "execute_result"
    }
   ],
   "source": [
    "preprocess('Not tasty and the texture was just nasty.')"
   ]
  },
  {
   "cell_type": "code",
   "execution_count": 19,
   "id": "76f32379",
   "metadata": {},
   "outputs": [
    {
     "data": {
      "text/plain": [
       "'crust not good'"
      ]
     },
     "execution_count": 19,
     "metadata": {},
     "output_type": "execute_result"
    }
   ],
   "source": [
    "preprocess('Crust is not good.')    # as not is in stopwords it is predicting wrong"
   ]
  },
  {
   "cell_type": "code",
   "execution_count": 20,
   "id": "ba0571af",
   "metadata": {},
   "outputs": [],
   "source": [
    "# Apply function to DF"
   ]
  },
  {
   "cell_type": "code",
   "execution_count": 21,
   "id": "cbdd885c",
   "metadata": {},
   "outputs": [
    {
     "data": {
      "text/plain": [
       "0                                         wow love place\n",
       "1                                         crust not good\n",
       "2                                 not tasti textur nasti\n",
       "3      stop late may bank holiday rick steve recommen...\n",
       "4                                select menu great price\n",
       "                             ...                        \n",
       "995                        think food flavor textur lack\n",
       "996                               appetit instantli gone\n",
       "997                 overal not impress would not go back\n",
       "998    whole experi underwhelm think go ninja sushi n...\n",
       "999    wast enough life pour salt wound draw time too...\n",
       "Name: Review, Length: 1000, dtype: object"
      ]
     },
     "execution_count": 21,
     "metadata": {},
     "output_type": "execute_result"
    }
   ],
   "source": [
    "df['Review'].apply(preprocess)    # Preprocessing Done"
   ]
  },
  {
   "cell_type": "code",
   "execution_count": 22,
   "id": "f065b91b",
   "metadata": {},
   "outputs": [],
   "source": [
    "df['processed_review']= df['Review'].apply(preprocess)"
   ]
  },
  {
   "cell_type": "code",
   "execution_count": 23,
   "id": "a74f9793",
   "metadata": {},
   "outputs": [],
   "source": [
    "from sklearn.feature_extraction.text import CountVectorizer"
   ]
  },
  {
   "cell_type": "code",
   "execution_count": 24,
   "id": "066c8b9c",
   "metadata": {},
   "outputs": [
    {
     "data": {
      "text/plain": [
       "CountVectorizer()"
      ]
     },
     "execution_count": 24,
     "metadata": {},
     "output_type": "execute_result"
    }
   ],
   "source": [
    "vectorizer = CountVectorizer()\n",
    "vectorizer.fit(df['processed_review'])"
   ]
  },
  {
   "cell_type": "code",
   "execution_count": 25,
   "id": "e1e57ab6",
   "metadata": {},
   "outputs": [
    {
     "data": {
      "text/plain": [
       "1566"
      ]
     },
     "execution_count": 25,
     "metadata": {},
     "output_type": "execute_result"
    }
   ],
   "source": [
    "len(vectorizer.get_feature_names())"
   ]
  },
  {
   "cell_type": "markdown",
   "id": "9c7d9d7b",
   "metadata": {},
   "source": [
    "# Bag OF Words Model"
   ]
  },
  {
   "cell_type": "code",
   "execution_count": 26,
   "id": "b821f1cb",
   "metadata": {},
   "outputs": [],
   "source": [
    "bow_table= vectorizer.transform(df['processed_review'])"
   ]
  },
  {
   "cell_type": "code",
   "execution_count": 27,
   "id": "593298af",
   "metadata": {},
   "outputs": [
    {
     "data": {
      "text/plain": [
       "<1000x1566 sparse matrix of type '<class 'numpy.int64'>'\n",
       "\twith 5484 stored elements in Compressed Sparse Row format>"
      ]
     },
     "execution_count": 27,
     "metadata": {},
     "output_type": "execute_result"
    }
   ],
   "source": [
    "bow_table   # In the form of sparse metrix ... so need to convert it into array"
   ]
  },
  {
   "cell_type": "code",
   "execution_count": 28,
   "id": "c97bb953",
   "metadata": {},
   "outputs": [
    {
     "data": {
      "text/plain": [
       "array([[0, 0, 0, ..., 0, 0, 0],\n",
       "       [0, 0, 0, ..., 0, 0, 0],\n",
       "       [0, 0, 0, ..., 0, 0, 0],\n",
       "       ...,\n",
       "       [0, 0, 0, ..., 0, 0, 0],\n",
       "       [0, 0, 0, ..., 0, 0, 0],\n",
       "       [0, 0, 0, ..., 0, 0, 0]], dtype=int64)"
      ]
     },
     "execution_count": 28,
     "metadata": {},
     "output_type": "execute_result"
    }
   ],
   "source": [
    "bow_table.toarray()"
   ]
  },
  {
   "cell_type": "code",
   "execution_count": 29,
   "id": "96b87ce6",
   "metadata": {},
   "outputs": [],
   "source": [
    "X_train= bow_table.toarray()\n",
    "y_yrain= df['Liked']"
   ]
  },
  {
   "cell_type": "code",
   "execution_count": 30,
   "id": "b550e278",
   "metadata": {},
   "outputs": [],
   "source": [
    "from sklearn.ensemble import RandomForestClassifier"
   ]
  },
  {
   "cell_type": "code",
   "execution_count": 31,
   "id": "7fed2c4f",
   "metadata": {},
   "outputs": [
    {
     "data": {
      "text/plain": [
       "RandomForestClassifier(max_depth=3, min_samples_leaf=2, n_estimators=90)"
      ]
     },
     "execution_count": 31,
     "metadata": {},
     "output_type": "execute_result"
    }
   ],
   "source": [
    "model= RandomForestClassifier(n_estimators=90,max_depth=3,min_samples_leaf=2)\n",
    "model.fit(X_train,y_yrain)"
   ]
  },
  {
   "cell_type": "code",
   "execution_count": 36,
   "id": "b73ea277",
   "metadata": {},
   "outputs": [],
   "source": [
    "def predict_review(review):\n",
    "    review=preprocess(review)\n",
    "    X_test=vectorizer.transform([review])\n",
    "    return model.predict(X_test)"
   ]
  },
  {
   "cell_type": "code",
   "execution_count": 37,
   "id": "61da0d2a",
   "metadata": {},
   "outputs": [
    {
     "data": {
      "text/plain": [
       "array([0], dtype=int64)"
      ]
     },
     "execution_count": 37,
     "metadata": {},
     "output_type": "execute_result"
    }
   ],
   "source": [
    "predict_review('Not tasty and the texture was just nasty.')"
   ]
  },
  {
   "cell_type": "code",
   "execution_count": 42,
   "id": "274a967e",
   "metadata": {},
   "outputs": [
    {
     "data": {
      "text/plain": [
       "array([1], dtype=int64)"
      ]
     },
     "execution_count": 42,
     "metadata": {},
     "output_type": "execute_result"
    }
   ],
   "source": [
    "predict_review('food wasnt good')"
   ]
  },
  {
   "cell_type": "code",
   "execution_count": null,
   "id": "e317358e",
   "metadata": {},
   "outputs": [],
   "source": []
  }
 ],
 "metadata": {
  "kernelspec": {
   "display_name": "Python 3 (ipykernel)",
   "language": "python",
   "name": "python3"
  },
  "language_info": {
   "codemirror_mode": {
    "name": "ipython",
    "version": 3
   },
   "file_extension": ".py",
   "mimetype": "text/x-python",
   "name": "python",
   "nbconvert_exporter": "python",
   "pygments_lexer": "ipython3",
   "version": "3.9.12"
  }
 },
 "nbformat": 4,
 "nbformat_minor": 5
}
