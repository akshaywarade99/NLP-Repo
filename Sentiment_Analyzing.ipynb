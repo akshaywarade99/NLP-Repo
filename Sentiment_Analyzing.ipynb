{
 "cells": [
  {
   "cell_type": "code",
   "execution_count": 1,
   "id": "8a035a2e",
   "metadata": {},
   "outputs": [],
   "source": [
    "import pandas as pd\n",
    "import numpy as np\n",
    "import matplotlib.pyplot as plt\n",
    "import warnings\n",
    "warnings.filterwarnings('ignore')"
   ]
  },
  {
   "cell_type": "code",
   "execution_count": 2,
   "id": "426d1228",
   "metadata": {},
   "outputs": [],
   "source": [
    "df = pd.read_csv('../../DataSets/NPL/sentiment_analysis/Train.csv')"
   ]
  },
  {
   "cell_type": "code",
   "execution_count": 3,
   "id": "afda817e",
   "metadata": {},
   "outputs": [
    {
     "data": {
      "text/html": [
       "<div>\n",
       "<style scoped>\n",
       "    .dataframe tbody tr th:only-of-type {\n",
       "        vertical-align: middle;\n",
       "    }\n",
       "\n",
       "    .dataframe tbody tr th {\n",
       "        vertical-align: top;\n",
       "    }\n",
       "\n",
       "    .dataframe thead th {\n",
       "        text-align: right;\n",
       "    }\n",
       "</style>\n",
       "<table border=\"1\" class=\"dataframe\">\n",
       "  <thead>\n",
       "    <tr style=\"text-align: right;\">\n",
       "      <th></th>\n",
       "      <th>Text_ID</th>\n",
       "      <th>Product_Description</th>\n",
       "      <th>Product_Type</th>\n",
       "      <th>Sentiment</th>\n",
       "    </tr>\n",
       "  </thead>\n",
       "  <tbody>\n",
       "    <tr>\n",
       "      <th>0</th>\n",
       "      <td>3057</td>\n",
       "      <td>The Web DesignerÛªs Guide to iOS (and Android...</td>\n",
       "      <td>9</td>\n",
       "      <td>2</td>\n",
       "    </tr>\n",
       "    <tr>\n",
       "      <th>1</th>\n",
       "      <td>6254</td>\n",
       "      <td>RT @mention Line for iPad 2 is longer today th...</td>\n",
       "      <td>9</td>\n",
       "      <td>2</td>\n",
       "    </tr>\n",
       "    <tr>\n",
       "      <th>2</th>\n",
       "      <td>8212</td>\n",
       "      <td>Crazy that Apple is opening a temporary store ...</td>\n",
       "      <td>9</td>\n",
       "      <td>2</td>\n",
       "    </tr>\n",
       "    <tr>\n",
       "      <th>3</th>\n",
       "      <td>4422</td>\n",
       "      <td>The lesson from Google One Pass: In this digit...</td>\n",
       "      <td>9</td>\n",
       "      <td>2</td>\n",
       "    </tr>\n",
       "    <tr>\n",
       "      <th>4</th>\n",
       "      <td>5526</td>\n",
       "      <td>RT @mention At the panel: &amp;quot;Your mom has a...</td>\n",
       "      <td>9</td>\n",
       "      <td>2</td>\n",
       "    </tr>\n",
       "  </tbody>\n",
       "</table>\n",
       "</div>"
      ],
      "text/plain": [
       "   Text_ID                                Product_Description  Product_Type  \\\n",
       "0     3057  The Web DesignerÛªs Guide to iOS (and Android...             9   \n",
       "1     6254  RT @mention Line for iPad 2 is longer today th...             9   \n",
       "2     8212  Crazy that Apple is opening a temporary store ...             9   \n",
       "3     4422  The lesson from Google One Pass: In this digit...             9   \n",
       "4     5526  RT @mention At the panel: &quot;Your mom has a...             9   \n",
       "\n",
       "   Sentiment  \n",
       "0          2  \n",
       "1          2  \n",
       "2          2  \n",
       "3          2  \n",
       "4          2  "
      ]
     },
     "execution_count": 3,
     "metadata": {},
     "output_type": "execute_result"
    }
   ],
   "source": [
    "df.head()"
   ]
  },
  {
   "cell_type": "code",
   "execution_count": 4,
   "id": "12e9013b",
   "metadata": {},
   "outputs": [
    {
     "data": {
      "text/plain": [
       "2    3765\n",
       "3    2089\n",
       "1     399\n",
       "0     111\n",
       "Name: Sentiment, dtype: int64"
      ]
     },
     "execution_count": 4,
     "metadata": {},
     "output_type": "execute_result"
    }
   ],
   "source": [
    "df['Sentiment'].value_counts()"
   ]
  },
  {
   "cell_type": "code",
   "execution_count": 5,
   "id": "4584a50c",
   "metadata": {},
   "outputs": [
    {
     "data": {
      "text/plain": [
       "9    4070\n",
       "6     665\n",
       "2     465\n",
       "7     327\n",
       "3     300\n",
       "5     213\n",
       "8     194\n",
       "1      59\n",
       "0      52\n",
       "4      19\n",
       "Name: Product_Type, dtype: int64"
      ]
     },
     "execution_count": 5,
     "metadata": {},
     "output_type": "execute_result"
    }
   ],
   "source": [
    "df['Product_Type'].value_counts()"
   ]
  },
  {
   "cell_type": "code",
   "execution_count": 57,
   "id": "66322266",
   "metadata": {},
   "outputs": [
    {
     "data": {
      "text/plain": [
       "'RT @mention At the panel: &quot;Your mom has an ipad, designing for boomers&quot; #sxsw'"
      ]
     },
     "execution_count": 57,
     "metadata": {},
     "output_type": "execute_result"
    }
   ],
   "source": [
    "df['Product_Description'][4]"
   ]
  },
  {
   "cell_type": "code",
   "execution_count": 7,
   "id": "fdf63b89",
   "metadata": {},
   "outputs": [],
   "source": [
    "df.drop('Text_ID',axis=1, inplace=True)"
   ]
  },
  {
   "cell_type": "code",
   "execution_count": 8,
   "id": "80f850e4",
   "metadata": {},
   "outputs": [
    {
     "data": {
      "text/html": [
       "<div>\n",
       "<style scoped>\n",
       "    .dataframe tbody tr th:only-of-type {\n",
       "        vertical-align: middle;\n",
       "    }\n",
       "\n",
       "    .dataframe tbody tr th {\n",
       "        vertical-align: top;\n",
       "    }\n",
       "\n",
       "    .dataframe thead th {\n",
       "        text-align: right;\n",
       "    }\n",
       "</style>\n",
       "<table border=\"1\" class=\"dataframe\">\n",
       "  <thead>\n",
       "    <tr style=\"text-align: right;\">\n",
       "      <th></th>\n",
       "      <th>Product_Description</th>\n",
       "      <th>Product_Type</th>\n",
       "      <th>Sentiment</th>\n",
       "    </tr>\n",
       "  </thead>\n",
       "  <tbody>\n",
       "    <tr>\n",
       "      <th>0</th>\n",
       "      <td>The Web DesignerÛªs Guide to iOS (and Android...</td>\n",
       "      <td>9</td>\n",
       "      <td>2</td>\n",
       "    </tr>\n",
       "    <tr>\n",
       "      <th>1</th>\n",
       "      <td>RT @mention Line for iPad 2 is longer today th...</td>\n",
       "      <td>9</td>\n",
       "      <td>2</td>\n",
       "    </tr>\n",
       "    <tr>\n",
       "      <th>2</th>\n",
       "      <td>Crazy that Apple is opening a temporary store ...</td>\n",
       "      <td>9</td>\n",
       "      <td>2</td>\n",
       "    </tr>\n",
       "  </tbody>\n",
       "</table>\n",
       "</div>"
      ],
      "text/plain": [
       "                                 Product_Description  Product_Type  Sentiment\n",
       "0  The Web DesignerÛªs Guide to iOS (and Android...             9          2\n",
       "1  RT @mention Line for iPad 2 is longer today th...             9          2\n",
       "2  Crazy that Apple is opening a temporary store ...             9          2"
      ]
     },
     "execution_count": 8,
     "metadata": {},
     "output_type": "execute_result"
    }
   ],
   "source": [
    "df.head(3)"
   ]
  },
  {
   "cell_type": "markdown",
   "id": "0cb82172",
   "metadata": {},
   "source": [
    "# Preprocessing Of Text"
   ]
  },
  {
   "cell_type": "code",
   "execution_count": 9,
   "id": "6d52705c",
   "metadata": {},
   "outputs": [
    {
     "data": {
      "text/plain": [
       "'the web designer\\x89ûªs guide to ios (and android) apps, today @mention 10 a.m! {link} #sxsw'"
      ]
     },
     "execution_count": 9,
     "metadata": {},
     "output_type": "execute_result"
    }
   ],
   "source": [
    "review='The Web Designer\\x89Ûªs Guide to iOS (and Android) Apps, today @mention 10 a.m! {link} #sxsw'\n",
    "review.lower()"
   ]
  },
  {
   "cell_type": "markdown",
   "id": "e5a5ebce",
   "metadata": {},
   "source": [
    "# Removing Unwanted Charecters from Text "
   ]
  },
  {
   "cell_type": "code",
   "execution_count": 10,
   "id": "c688f22f",
   "metadata": {},
   "outputs": [],
   "source": [
    "import re"
   ]
  },
  {
   "cell_type": "code",
   "execution_count": 11,
   "id": "d31fcaa0",
   "metadata": {},
   "outputs": [
    {
     "data": {
      "text/plain": [
       "['the',\n",
       " 'web',\n",
       " 'designer',\n",
       " 's',\n",
       " 'guide',\n",
       " 'to',\n",
       " 'ios',\n",
       " 'and',\n",
       " 'android',\n",
       " 'apps',\n",
       " 'today',\n",
       " 'mention',\n",
       " 'a',\n",
       " 'm',\n",
       " 'link',\n",
       " 'sxsw']"
      ]
     },
     "execution_count": 11,
     "metadata": {},
     "output_type": "execute_result"
    }
   ],
   "source": [
    "review='The Web Designer\\x89Ûªs Guide to iOS (and Android) Apps, today @mention 10 a.m! {link} #sxsw'\n",
    "review=review.lower()\n",
    "review= re.sub('[^a-z]',' ',review)\n",
    "review.split()"
   ]
  },
  {
   "cell_type": "code",
   "execution_count": 12,
   "id": "80ef2113",
   "metadata": {},
   "outputs": [],
   "source": [
    "import nltk"
   ]
  },
  {
   "cell_type": "code",
   "execution_count": 13,
   "id": "d0603a2f",
   "metadata": {},
   "outputs": [
    {
     "name": "stderr",
     "output_type": "stream",
     "text": [
      "[nltk_data] Downloading package stopwords to\n",
      "[nltk_data]     C:\\Users\\Pavilion\\AppData\\Roaming\\nltk_data...\n",
      "[nltk_data]   Package stopwords is already up-to-date!\n"
     ]
    },
    {
     "data": {
      "text/plain": [
       "True"
      ]
     },
     "execution_count": 13,
     "metadata": {},
     "output_type": "execute_result"
    }
   ],
   "source": [
    "nltk.download('stopwords')"
   ]
  },
  {
   "cell_type": "code",
   "execution_count": 14,
   "id": "0516e0ac",
   "metadata": {},
   "outputs": [],
   "source": [
    "stopwords = nltk.corpus.stopwords.words('english')"
   ]
  },
  {
   "cell_type": "code",
   "execution_count": 15,
   "id": "91750758",
   "metadata": {},
   "outputs": [],
   "source": [
    "from sklearn.feature_extraction.text import CountVectorizer\n",
    "from sklearn.feature_extraction.text import TfidfVectorizer"
   ]
  },
  {
   "cell_type": "code",
   "execution_count": 16,
   "id": "009e59e1",
   "metadata": {},
   "outputs": [],
   "source": [
    "stopwords.remove('not')"
   ]
  },
  {
   "cell_type": "code",
   "execution_count": 18,
   "id": "325b661e",
   "metadata": {},
   "outputs": [
    {
     "data": {
      "text/plain": [
       "['web',\n",
       " 'designer',\n",
       " 'guide',\n",
       " 'ios',\n",
       " 'android',\n",
       " 'apps',\n",
       " 'today',\n",
       " 'mention',\n",
       " 'link',\n",
       " 'sxsw']"
      ]
     },
     "execution_count": 18,
     "metadata": {},
     "output_type": "execute_result"
    }
   ],
   "source": [
    "review='The Web Designer\\x89Ûªs Guide to iOS (and Android) Apps, today @mention 10 a.m! {link} #sxsw'\n",
    "review=review.lower()\n",
    "review= re.sub('[^a-z]',' ',review)\n",
    "words= review.split()\n",
    "final_words= [word for word in words if not word in stopwords]\n",
    "final_words"
   ]
  },
  {
   "cell_type": "markdown",
   "id": "31209f76",
   "metadata": {},
   "source": [
    "# Stemming"
   ]
  },
  {
   "cell_type": "code",
   "execution_count": 19,
   "id": "6f5b9e35",
   "metadata": {},
   "outputs": [],
   "source": [
    "stemmer= nltk.stem.PorterStemmer()"
   ]
  },
  {
   "cell_type": "code",
   "execution_count": 20,
   "id": "75d742b0",
   "metadata": {},
   "outputs": [
    {
     "data": {
      "text/plain": [
       "'web design guid io android app today mention link sxsw'"
      ]
     },
     "execution_count": 20,
     "metadata": {},
     "output_type": "execute_result"
    }
   ],
   "source": [
    "review='The Web Designer\\x89Ûªs Guide to iOS (and Android) Apps, today @mention 10 a.m! {link} #sxsw'\n",
    "review=review.lower()\n",
    "review= re.sub('[^a-z]',' ',review)\n",
    "words= review.split()\n",
    "final_words= [stemmer.stem(word) for word in words if not word in stopwords]\n",
    "' '.join(final_words)"
   ]
  },
  {
   "cell_type": "code",
   "execution_count": 21,
   "id": "475d8b7f",
   "metadata": {},
   "outputs": [],
   "source": [
    "def prepross(review):    \n",
    "    review=review.lower()\n",
    "    review= re.sub('[^a-z]',' ',review)\n",
    "    words= review.split()\n",
    "    final_words= [stemmer.stem(word) for word in words if not word in stopwords]\n",
    "    return ' '.join(final_words)"
   ]
  },
  {
   "cell_type": "code",
   "execution_count": 23,
   "id": "1937ccc1",
   "metadata": {},
   "outputs": [
    {
     "data": {
      "text/plain": [
       "'rt mention think ef hubbi line ipad someon point toward line wife number sxswi sxsw'"
      ]
     },
     "execution_count": 23,
     "metadata": {},
     "output_type": "execute_result"
    }
   ],
   "source": [
    "prepross('RT @mention I think my effing hubby is in line for an #iPad 2. Can someone point him towards the line-up for wife number #2. #sxswi #sxsw')"
   ]
  },
  {
   "cell_type": "code",
   "execution_count": 26,
   "id": "fd96b50f",
   "metadata": {},
   "outputs": [
    {
     "data": {
      "text/plain": [
       "'crazi appl open temporari store austin tomorrow handl rabid sxsw eye pad seeker'"
      ]
     },
     "execution_count": 26,
     "metadata": {},
     "output_type": "execute_result"
    }
   ],
   "source": [
    "prepross('Crazy that Apple is opening a temporary store in Austin tomorrow to handle the rabid #sxsw eye pad too seekers.')"
   ]
  },
  {
   "cell_type": "code",
   "execution_count": 27,
   "id": "97992f31",
   "metadata": {},
   "outputs": [
    {
     "data": {
      "text/plain": [
       "0       web design guid io android app today mention l...\n",
       "1       rt mention line ipad longer today yesterday sx...\n",
       "2       crazi appl open temporari store austin tomorro...\n",
       "3       lesson googl one pass digit environ user want ...\n",
       "4       rt mention panel quot mom ipad design boomer q...\n",
       "                              ...                        \n",
       "6359    thank mention host event sxsw sxswi iwantacr link\n",
       "6360    sxsw iphon app awesom ipad app crash everi tim...\n",
       "6361    rt mention rt mention download free track ment...\n",
       "6362    oh texa social media award need ask mother any...\n",
       "6363    googl launch quot major quot new social networ...\n",
       "Name: Product_Description, Length: 6364, dtype: object"
      ]
     },
     "execution_count": 27,
     "metadata": {},
     "output_type": "execute_result"
    }
   ],
   "source": [
    "df['Product_Description'].apply(prepross)"
   ]
  },
  {
   "cell_type": "code",
   "execution_count": 28,
   "id": "c0a92d76",
   "metadata": {},
   "outputs": [],
   "source": [
    "df['Review']=df['Product_Description'].apply(prepross)"
   ]
  },
  {
   "cell_type": "code",
   "execution_count": 29,
   "id": "3acc6191",
   "metadata": {},
   "outputs": [
    {
     "data": {
      "text/html": [
       "<div>\n",
       "<style scoped>\n",
       "    .dataframe tbody tr th:only-of-type {\n",
       "        vertical-align: middle;\n",
       "    }\n",
       "\n",
       "    .dataframe tbody tr th {\n",
       "        vertical-align: top;\n",
       "    }\n",
       "\n",
       "    .dataframe thead th {\n",
       "        text-align: right;\n",
       "    }\n",
       "</style>\n",
       "<table border=\"1\" class=\"dataframe\">\n",
       "  <thead>\n",
       "    <tr style=\"text-align: right;\">\n",
       "      <th></th>\n",
       "      <th>Product_Description</th>\n",
       "      <th>Product_Type</th>\n",
       "      <th>Sentiment</th>\n",
       "      <th>Review</th>\n",
       "    </tr>\n",
       "  </thead>\n",
       "  <tbody>\n",
       "    <tr>\n",
       "      <th>0</th>\n",
       "      <td>The Web DesignerÛªs Guide to iOS (and Android...</td>\n",
       "      <td>9</td>\n",
       "      <td>2</td>\n",
       "      <td>web design guid io android app today mention l...</td>\n",
       "    </tr>\n",
       "    <tr>\n",
       "      <th>1</th>\n",
       "      <td>RT @mention Line for iPad 2 is longer today th...</td>\n",
       "      <td>9</td>\n",
       "      <td>2</td>\n",
       "      <td>rt mention line ipad longer today yesterday sx...</td>\n",
       "    </tr>\n",
       "    <tr>\n",
       "      <th>2</th>\n",
       "      <td>Crazy that Apple is opening a temporary store ...</td>\n",
       "      <td>9</td>\n",
       "      <td>2</td>\n",
       "      <td>crazi appl open temporari store austin tomorro...</td>\n",
       "    </tr>\n",
       "    <tr>\n",
       "      <th>3</th>\n",
       "      <td>The lesson from Google One Pass: In this digit...</td>\n",
       "      <td>9</td>\n",
       "      <td>2</td>\n",
       "      <td>lesson googl one pass digit environ user want ...</td>\n",
       "    </tr>\n",
       "    <tr>\n",
       "      <th>4</th>\n",
       "      <td>RT @mention At the panel: &amp;quot;Your mom has a...</td>\n",
       "      <td>9</td>\n",
       "      <td>2</td>\n",
       "      <td>rt mention panel quot mom ipad design boomer q...</td>\n",
       "    </tr>\n",
       "    <tr>\n",
       "      <th>...</th>\n",
       "      <td>...</td>\n",
       "      <td>...</td>\n",
       "      <td>...</td>\n",
       "      <td>...</td>\n",
       "    </tr>\n",
       "    <tr>\n",
       "      <th>6359</th>\n",
       "      <td>Thanks @mention for hosting this event #sxsw #...</td>\n",
       "      <td>9</td>\n",
       "      <td>2</td>\n",
       "      <td>thank mention host event sxsw sxswi iwantacr link</td>\n",
       "    </tr>\n",
       "    <tr>\n",
       "      <th>6360</th>\n",
       "      <td>SXSW iPhone app is awesome, but iPad app crash...</td>\n",
       "      <td>7</td>\n",
       "      <td>1</td>\n",
       "      <td>sxsw iphon app awesom ipad app crash everi tim...</td>\n",
       "    </tr>\n",
       "    <tr>\n",
       "      <th>6361</th>\n",
       "      <td>RT @mention RT @mention Download 20+ free trac...</td>\n",
       "      <td>9</td>\n",
       "      <td>2</td>\n",
       "      <td>rt mention rt mention download free track ment...</td>\n",
       "    </tr>\n",
       "    <tr>\n",
       "      <th>6362</th>\n",
       "      <td>OH at Texas Social Media Awards: 'You don't ne...</td>\n",
       "      <td>9</td>\n",
       "      <td>2</td>\n",
       "      <td>oh texa social media award need ask mother any...</td>\n",
       "    </tr>\n",
       "    <tr>\n",
       "      <th>6363</th>\n",
       "      <td>#Google launching a &amp;quot;major&amp;quot; new soci...</td>\n",
       "      <td>9</td>\n",
       "      <td>2</td>\n",
       "      <td>googl launch quot major quot new social networ...</td>\n",
       "    </tr>\n",
       "  </tbody>\n",
       "</table>\n",
       "<p>6364 rows × 4 columns</p>\n",
       "</div>"
      ],
      "text/plain": [
       "                                    Product_Description  Product_Type  \\\n",
       "0     The Web DesignerÛªs Guide to iOS (and Android...             9   \n",
       "1     RT @mention Line for iPad 2 is longer today th...             9   \n",
       "2     Crazy that Apple is opening a temporary store ...             9   \n",
       "3     The lesson from Google One Pass: In this digit...             9   \n",
       "4     RT @mention At the panel: &quot;Your mom has a...             9   \n",
       "...                                                 ...           ...   \n",
       "6359  Thanks @mention for hosting this event #sxsw #...             9   \n",
       "6360  SXSW iPhone app is awesome, but iPad app crash...             7   \n",
       "6361  RT @mention RT @mention Download 20+ free trac...             9   \n",
       "6362  OH at Texas Social Media Awards: 'You don't ne...             9   \n",
       "6363  #Google launching a &quot;major&quot; new soci...             9   \n",
       "\n",
       "      Sentiment                                             Review  \n",
       "0             2  web design guid io android app today mention l...  \n",
       "1             2  rt mention line ipad longer today yesterday sx...  \n",
       "2             2  crazi appl open temporari store austin tomorro...  \n",
       "3             2  lesson googl one pass digit environ user want ...  \n",
       "4             2  rt mention panel quot mom ipad design boomer q...  \n",
       "...         ...                                                ...  \n",
       "6359          2  thank mention host event sxsw sxswi iwantacr link  \n",
       "6360          1  sxsw iphon app awesom ipad app crash everi tim...  \n",
       "6361          2  rt mention rt mention download free track ment...  \n",
       "6362          2  oh texa social media award need ask mother any...  \n",
       "6363          2  googl launch quot major quot new social networ...  \n",
       "\n",
       "[6364 rows x 4 columns]"
      ]
     },
     "execution_count": 29,
     "metadata": {},
     "output_type": "execute_result"
    }
   ],
   "source": [
    "df"
   ]
  },
  {
   "cell_type": "code",
   "execution_count": 33,
   "id": "30ddb483",
   "metadata": {},
   "outputs": [
    {
     "data": {
      "text/plain": [
       "CountVectorizer(max_features=999, ngram_range=(1, 3))"
      ]
     },
     "execution_count": 33,
     "metadata": {},
     "output_type": "execute_result"
    }
   ],
   "source": [
    "vectorizer_BOW= CountVectorizer(max_features=999,ngram_range=(1,3))\n",
    "vectorizer_BOW.fit(df['Review'])"
   ]
  },
  {
   "cell_type": "code",
   "execution_count": 34,
   "id": "872a7d1b",
   "metadata": {},
   "outputs": [
    {
     "data": {
      "text/plain": [
       "999"
      ]
     },
     "execution_count": 34,
     "metadata": {},
     "output_type": "execute_result"
    }
   ],
   "source": [
    "len(vectorizer_BOW.get_feature_names())"
   ]
  },
  {
   "cell_type": "code",
   "execution_count": 36,
   "id": "5314defd",
   "metadata": {},
   "outputs": [],
   "source": [
    "table_BOW= vectorizer_BOW.transform(df['Review']).toarray()\n"
   ]
  },
  {
   "cell_type": "code",
   "execution_count": 37,
   "id": "fe580533",
   "metadata": {},
   "outputs": [],
   "source": [
    "final_df= pd.DataFrame(table_BOW)"
   ]
  },
  {
   "cell_type": "code",
   "execution_count": 38,
   "id": "c37a541d",
   "metadata": {},
   "outputs": [],
   "source": [
    "final_df['Product_Type']= df['Product_Type']"
   ]
  },
  {
   "cell_type": "code",
   "execution_count": 39,
   "id": "641d6433",
   "metadata": {},
   "outputs": [],
   "source": [
    "final_df['Sentiment']= df['Sentiment']"
   ]
  },
  {
   "cell_type": "code",
   "execution_count": 40,
   "id": "502c3fb6",
   "metadata": {},
   "outputs": [
    {
     "data": {
      "text/html": [
       "<div>\n",
       "<style scoped>\n",
       "    .dataframe tbody tr th:only-of-type {\n",
       "        vertical-align: middle;\n",
       "    }\n",
       "\n",
       "    .dataframe tbody tr th {\n",
       "        vertical-align: top;\n",
       "    }\n",
       "\n",
       "    .dataframe thead th {\n",
       "        text-align: right;\n",
       "    }\n",
       "</style>\n",
       "<table border=\"1\" class=\"dataframe\">\n",
       "  <thead>\n",
       "    <tr style=\"text-align: right;\">\n",
       "      <th></th>\n",
       "      <th>0</th>\n",
       "      <th>1</th>\n",
       "      <th>2</th>\n",
       "      <th>3</th>\n",
       "      <th>4</th>\n",
       "      <th>5</th>\n",
       "      <th>6</th>\n",
       "      <th>7</th>\n",
       "      <th>8</th>\n",
       "      <th>9</th>\n",
       "      <th>...</th>\n",
       "      <th>991</th>\n",
       "      <th>992</th>\n",
       "      <th>993</th>\n",
       "      <th>994</th>\n",
       "      <th>995</th>\n",
       "      <th>996</th>\n",
       "      <th>997</th>\n",
       "      <th>998</th>\n",
       "      <th>Product_Type</th>\n",
       "      <th>Sentiment</th>\n",
       "    </tr>\n",
       "  </thead>\n",
       "  <tbody>\n",
       "    <tr>\n",
       "      <th>0</th>\n",
       "      <td>0</td>\n",
       "      <td>0</td>\n",
       "      <td>0</td>\n",
       "      <td>0</td>\n",
       "      <td>0</td>\n",
       "      <td>0</td>\n",
       "      <td>0</td>\n",
       "      <td>0</td>\n",
       "      <td>0</td>\n",
       "      <td>0</td>\n",
       "      <td>...</td>\n",
       "      <td>0</td>\n",
       "      <td>0</td>\n",
       "      <td>0</td>\n",
       "      <td>0</td>\n",
       "      <td>0</td>\n",
       "      <td>0</td>\n",
       "      <td>0</td>\n",
       "      <td>0</td>\n",
       "      <td>9</td>\n",
       "      <td>2</td>\n",
       "    </tr>\n",
       "    <tr>\n",
       "      <th>1</th>\n",
       "      <td>0</td>\n",
       "      <td>0</td>\n",
       "      <td>0</td>\n",
       "      <td>0</td>\n",
       "      <td>0</td>\n",
       "      <td>0</td>\n",
       "      <td>0</td>\n",
       "      <td>0</td>\n",
       "      <td>0</td>\n",
       "      <td>0</td>\n",
       "      <td>...</td>\n",
       "      <td>0</td>\n",
       "      <td>0</td>\n",
       "      <td>0</td>\n",
       "      <td>0</td>\n",
       "      <td>0</td>\n",
       "      <td>0</td>\n",
       "      <td>0</td>\n",
       "      <td>0</td>\n",
       "      <td>9</td>\n",
       "      <td>2</td>\n",
       "    </tr>\n",
       "    <tr>\n",
       "      <th>2</th>\n",
       "      <td>0</td>\n",
       "      <td>0</td>\n",
       "      <td>0</td>\n",
       "      <td>0</td>\n",
       "      <td>0</td>\n",
       "      <td>0</td>\n",
       "      <td>0</td>\n",
       "      <td>0</td>\n",
       "      <td>0</td>\n",
       "      <td>0</td>\n",
       "      <td>...</td>\n",
       "      <td>0</td>\n",
       "      <td>0</td>\n",
       "      <td>0</td>\n",
       "      <td>0</td>\n",
       "      <td>0</td>\n",
       "      <td>0</td>\n",
       "      <td>0</td>\n",
       "      <td>0</td>\n",
       "      <td>9</td>\n",
       "      <td>2</td>\n",
       "    </tr>\n",
       "    <tr>\n",
       "      <th>3</th>\n",
       "      <td>0</td>\n",
       "      <td>0</td>\n",
       "      <td>0</td>\n",
       "      <td>0</td>\n",
       "      <td>0</td>\n",
       "      <td>0</td>\n",
       "      <td>0</td>\n",
       "      <td>0</td>\n",
       "      <td>0</td>\n",
       "      <td>0</td>\n",
       "      <td>...</td>\n",
       "      <td>0</td>\n",
       "      <td>0</td>\n",
       "      <td>0</td>\n",
       "      <td>0</td>\n",
       "      <td>0</td>\n",
       "      <td>0</td>\n",
       "      <td>0</td>\n",
       "      <td>0</td>\n",
       "      <td>9</td>\n",
       "      <td>2</td>\n",
       "    </tr>\n",
       "    <tr>\n",
       "      <th>4</th>\n",
       "      <td>0</td>\n",
       "      <td>0</td>\n",
       "      <td>0</td>\n",
       "      <td>0</td>\n",
       "      <td>0</td>\n",
       "      <td>0</td>\n",
       "      <td>0</td>\n",
       "      <td>0</td>\n",
       "      <td>0</td>\n",
       "      <td>0</td>\n",
       "      <td>...</td>\n",
       "      <td>0</td>\n",
       "      <td>0</td>\n",
       "      <td>0</td>\n",
       "      <td>0</td>\n",
       "      <td>0</td>\n",
       "      <td>0</td>\n",
       "      <td>0</td>\n",
       "      <td>0</td>\n",
       "      <td>9</td>\n",
       "      <td>2</td>\n",
       "    </tr>\n",
       "    <tr>\n",
       "      <th>...</th>\n",
       "      <td>...</td>\n",
       "      <td>...</td>\n",
       "      <td>...</td>\n",
       "      <td>...</td>\n",
       "      <td>...</td>\n",
       "      <td>...</td>\n",
       "      <td>...</td>\n",
       "      <td>...</td>\n",
       "      <td>...</td>\n",
       "      <td>...</td>\n",
       "      <td>...</td>\n",
       "      <td>...</td>\n",
       "      <td>...</td>\n",
       "      <td>...</td>\n",
       "      <td>...</td>\n",
       "      <td>...</td>\n",
       "      <td>...</td>\n",
       "      <td>...</td>\n",
       "      <td>...</td>\n",
       "      <td>...</td>\n",
       "      <td>...</td>\n",
       "    </tr>\n",
       "    <tr>\n",
       "      <th>6359</th>\n",
       "      <td>0</td>\n",
       "      <td>0</td>\n",
       "      <td>0</td>\n",
       "      <td>0</td>\n",
       "      <td>0</td>\n",
       "      <td>0</td>\n",
       "      <td>0</td>\n",
       "      <td>0</td>\n",
       "      <td>0</td>\n",
       "      <td>0</td>\n",
       "      <td>...</td>\n",
       "      <td>0</td>\n",
       "      <td>0</td>\n",
       "      <td>0</td>\n",
       "      <td>0</td>\n",
       "      <td>0</td>\n",
       "      <td>0</td>\n",
       "      <td>0</td>\n",
       "      <td>0</td>\n",
       "      <td>9</td>\n",
       "      <td>2</td>\n",
       "    </tr>\n",
       "    <tr>\n",
       "      <th>6360</th>\n",
       "      <td>0</td>\n",
       "      <td>0</td>\n",
       "      <td>0</td>\n",
       "      <td>0</td>\n",
       "      <td>0</td>\n",
       "      <td>0</td>\n",
       "      <td>0</td>\n",
       "      <td>0</td>\n",
       "      <td>0</td>\n",
       "      <td>0</td>\n",
       "      <td>...</td>\n",
       "      <td>0</td>\n",
       "      <td>0</td>\n",
       "      <td>0</td>\n",
       "      <td>0</td>\n",
       "      <td>0</td>\n",
       "      <td>0</td>\n",
       "      <td>0</td>\n",
       "      <td>0</td>\n",
       "      <td>7</td>\n",
       "      <td>1</td>\n",
       "    </tr>\n",
       "    <tr>\n",
       "      <th>6361</th>\n",
       "      <td>0</td>\n",
       "      <td>0</td>\n",
       "      <td>0</td>\n",
       "      <td>0</td>\n",
       "      <td>0</td>\n",
       "      <td>0</td>\n",
       "      <td>0</td>\n",
       "      <td>0</td>\n",
       "      <td>0</td>\n",
       "      <td>0</td>\n",
       "      <td>...</td>\n",
       "      <td>0</td>\n",
       "      <td>0</td>\n",
       "      <td>0</td>\n",
       "      <td>0</td>\n",
       "      <td>0</td>\n",
       "      <td>0</td>\n",
       "      <td>0</td>\n",
       "      <td>0</td>\n",
       "      <td>9</td>\n",
       "      <td>2</td>\n",
       "    </tr>\n",
       "    <tr>\n",
       "      <th>6362</th>\n",
       "      <td>0</td>\n",
       "      <td>0</td>\n",
       "      <td>0</td>\n",
       "      <td>0</td>\n",
       "      <td>0</td>\n",
       "      <td>0</td>\n",
       "      <td>0</td>\n",
       "      <td>0</td>\n",
       "      <td>0</td>\n",
       "      <td>0</td>\n",
       "      <td>...</td>\n",
       "      <td>0</td>\n",
       "      <td>0</td>\n",
       "      <td>0</td>\n",
       "      <td>0</td>\n",
       "      <td>0</td>\n",
       "      <td>0</td>\n",
       "      <td>0</td>\n",
       "      <td>0</td>\n",
       "      <td>9</td>\n",
       "      <td>2</td>\n",
       "    </tr>\n",
       "    <tr>\n",
       "      <th>6363</th>\n",
       "      <td>0</td>\n",
       "      <td>0</td>\n",
       "      <td>0</td>\n",
       "      <td>0</td>\n",
       "      <td>0</td>\n",
       "      <td>0</td>\n",
       "      <td>0</td>\n",
       "      <td>0</td>\n",
       "      <td>0</td>\n",
       "      <td>0</td>\n",
       "      <td>...</td>\n",
       "      <td>0</td>\n",
       "      <td>0</td>\n",
       "      <td>0</td>\n",
       "      <td>0</td>\n",
       "      <td>0</td>\n",
       "      <td>0</td>\n",
       "      <td>0</td>\n",
       "      <td>0</td>\n",
       "      <td>9</td>\n",
       "      <td>2</td>\n",
       "    </tr>\n",
       "  </tbody>\n",
       "</table>\n",
       "<p>6364 rows × 1001 columns</p>\n",
       "</div>"
      ],
      "text/plain": [
       "      0  1  2  3  4  5  6  7  8  9  ...  991  992  993  994  995  996  997  \\\n",
       "0     0  0  0  0  0  0  0  0  0  0  ...    0    0    0    0    0    0    0   \n",
       "1     0  0  0  0  0  0  0  0  0  0  ...    0    0    0    0    0    0    0   \n",
       "2     0  0  0  0  0  0  0  0  0  0  ...    0    0    0    0    0    0    0   \n",
       "3     0  0  0  0  0  0  0  0  0  0  ...    0    0    0    0    0    0    0   \n",
       "4     0  0  0  0  0  0  0  0  0  0  ...    0    0    0    0    0    0    0   \n",
       "...  .. .. .. .. .. .. .. .. .. ..  ...  ...  ...  ...  ...  ...  ...  ...   \n",
       "6359  0  0  0  0  0  0  0  0  0  0  ...    0    0    0    0    0    0    0   \n",
       "6360  0  0  0  0  0  0  0  0  0  0  ...    0    0    0    0    0    0    0   \n",
       "6361  0  0  0  0  0  0  0  0  0  0  ...    0    0    0    0    0    0    0   \n",
       "6362  0  0  0  0  0  0  0  0  0  0  ...    0    0    0    0    0    0    0   \n",
       "6363  0  0  0  0  0  0  0  0  0  0  ...    0    0    0    0    0    0    0   \n",
       "\n",
       "      998  Product_Type  Sentiment  \n",
       "0       0             9          2  \n",
       "1       0             9          2  \n",
       "2       0             9          2  \n",
       "3       0             9          2  \n",
       "4       0             9          2  \n",
       "...   ...           ...        ...  \n",
       "6359    0             9          2  \n",
       "6360    0             7          1  \n",
       "6361    0             9          2  \n",
       "6362    0             9          2  \n",
       "6363    0             9          2  \n",
       "\n",
       "[6364 rows x 1001 columns]"
      ]
     },
     "execution_count": 40,
     "metadata": {},
     "output_type": "execute_result"
    }
   ],
   "source": [
    "final_df"
   ]
  },
  {
   "cell_type": "code",
   "execution_count": 50,
   "id": "5d26b3e1",
   "metadata": {},
   "outputs": [],
   "source": [
    "X= final_df.drop(['Sentiment','Product_Type'],axis=1)\n",
    "y= final_df['Sentiment']"
   ]
  },
  {
   "cell_type": "markdown",
   "id": "f586038e",
   "metadata": {},
   "source": [
    "# Model Building"
   ]
  },
  {
   "cell_type": "code",
   "execution_count": 51,
   "id": "7c689654",
   "metadata": {},
   "outputs": [],
   "source": [
    "from sklearn.ensemble import RandomForestClassifier"
   ]
  },
  {
   "cell_type": "code",
   "execution_count": 52,
   "id": "6dd269b2",
   "metadata": {},
   "outputs": [
    {
     "data": {
      "text/plain": [
       "RandomForestClassifier(max_depth=6, n_estimators=99)"
      ]
     },
     "execution_count": 52,
     "metadata": {},
     "output_type": "execute_result"
    }
   ],
   "source": [
    "model_1= RandomForestClassifier(n_estimators=99,max_depth=6)\n",
    "model_1.fit(X,y)\n"
   ]
  },
  {
   "cell_type": "code",
   "execution_count": 56,
   "id": "8c7c20a3",
   "metadata": {},
   "outputs": [],
   "source": [
    "def review_processed(review_1):\n",
    "    review1=prepross(review_1)\n",
    "    review1_processed= vectorizer_BOW.transform([review1]).toarray()\n",
    "    return review1_processed"
   ]
  },
  {
   "cell_type": "code",
   "execution_count": 54,
   "id": "42dd0f7a",
   "metadata": {},
   "outputs": [
    {
     "data": {
      "text/plain": [
       "array([2], dtype=int64)"
      ]
     },
     "execution_count": 54,
     "metadata": {},
     "output_type": "execute_result"
    }
   ],
   "source": [
    "model_1.predict(review1_processed)"
   ]
  },
  {
   "cell_type": "code",
   "execution_count": 59,
   "id": "16d973bc",
   "metadata": {},
   "outputs": [],
   "source": [
    "A=review_processed('RT @mention At the panel: &quot;Your mom has an ipad, designing for boomers&quot; #sxsw')"
   ]
  },
  {
   "cell_type": "code",
   "execution_count": 60,
   "id": "e78393fb",
   "metadata": {},
   "outputs": [
    {
     "data": {
      "text/plain": [
       "array([2], dtype=int64)"
      ]
     },
     "execution_count": 60,
     "metadata": {},
     "output_type": "execute_result"
    }
   ],
   "source": [
    "model_1.predict(A)"
   ]
  },
  {
   "cell_type": "code",
   "execution_count": null,
   "id": "b2513e5d",
   "metadata": {},
   "outputs": [],
   "source": []
  }
 ],
 "metadata": {
  "kernelspec": {
   "display_name": "Python 3 (ipykernel)",
   "language": "python",
   "name": "python3"
  },
  "language_info": {
   "codemirror_mode": {
    "name": "ipython",
    "version": 3
   },
   "file_extension": ".py",
   "mimetype": "text/x-python",
   "name": "python",
   "nbconvert_exporter": "python",
   "pygments_lexer": "ipython3",
   "version": "3.9.12"
  }
 },
 "nbformat": 4,
 "nbformat_minor": 5
}
